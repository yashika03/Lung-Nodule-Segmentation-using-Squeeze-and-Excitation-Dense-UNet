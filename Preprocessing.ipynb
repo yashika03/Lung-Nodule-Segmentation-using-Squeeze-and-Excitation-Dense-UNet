{
  "nbformat": 4,
  "nbformat_minor": 0,
  "metadata": {
    "colab": {
      "provenance": []
    },
    "kernelspec": {
      "name": "python3",
      "display_name": "Python 3"
    },
    "language_info": {
      "name": "python"
    }
  },
  "cells": [
    {
      "cell_type": "code",
      "execution_count": null,
      "metadata": {
        "id": "Ao3BqIpctAai"
      },
      "outputs": [],
      "source": [
        "!mkdir ~/.kaggle"
      ]
    },
    {
      "cell_type": "code",
      "source": [
        "!cp kaggle.json ~/.kaggle/"
      ],
      "metadata": {
        "id": "8c2n7LbwtsnQ",
        "colab": {
          "base_uri": "https://localhost:8080/"
        },
        "outputId": "3bd1029b-bf35-4852-a910-9b0983beb88d"
      },
      "execution_count": null,
      "outputs": [
        {
          "output_type": "stream",
          "name": "stdout",
          "text": [
            "cp: cannot stat 'kaggle.json': No such file or directory\n"
          ]
        }
      ]
    },
    {
      "cell_type": "code",
      "source": [
        "!chmod 600 ~/.kaggle/kaggle.json"
      ],
      "metadata": {
        "id": "h9A6WS7Bt_6b",
        "colab": {
          "base_uri": "https://localhost:8080/"
        },
        "outputId": "06db9a54-24b2-4d4f-a2f9-b021c0edc1a3"
      },
      "execution_count": null,
      "outputs": [
        {
          "output_type": "stream",
          "name": "stdout",
          "text": [
            "chmod: cannot access '/root/.kaggle/kaggle.json': No such file or directory\n"
          ]
        }
      ]
    },
    {
      "cell_type": "code",
      "source": [
        "!kaggle datasets download muskaanchhikara/subset6"
      ],
      "metadata": {
        "colab": {
          "base_uri": "https://localhost:8080/"
        },
        "id": "2X8tGqVMuB8s",
        "outputId": "fe399bc2-7ac7-4721-8640-ebff7331ad8d"
      },
      "execution_count": null,
      "outputs": [
        {
          "output_type": "stream",
          "name": "stdout",
          "text": [
            "Traceback (most recent call last):\n",
            "  File \"/usr/local/bin/kaggle\", line 5, in <module>\n",
            "    from kaggle.cli import main\n",
            "  File \"/usr/local/lib/python3.9/dist-packages/kaggle/__init__.py\", line 23, in <module>\n",
            "    api.authenticate()\n",
            "  File \"/usr/local/lib/python3.9/dist-packages/kaggle/api/kaggle_api_extended.py\", line 164, in authenticate\n",
            "    raise IOError('Could not find {}. Make sure it\\'s located in'\n",
            "OSError: Could not find kaggle.json. Make sure it's located in /root/.kaggle. Or use the environment method.\n"
          ]
        }
      ]
    },
    {
      "cell_type": "code",
      "source": [
        "!unzip /content/subset6.zip"
      ],
      "metadata": {
        "colab": {
          "base_uri": "https://localhost:8080/"
        },
        "id": "d5pAKQgFuoSW",
        "outputId": "2dfd2cc4-f16d-4c4c-e077-4003e0c230cb"
      },
      "execution_count": null,
      "outputs": [
        {
          "output_type": "stream",
          "name": "stdout",
          "text": [
            "Archive:  /content/subset6.zip\n",
            "  inflating: subset6/1.3.6.1.4.1.14519.5.2.1.6279.6001.106630482085576298661469304872.mhd  \n",
            "  inflating: subset6/1.3.6.1.4.1.14519.5.2.1.6279.6001.106630482085576298661469304872.raw  \n",
            "  inflating: subset6/1.3.6.1.4.1.14519.5.2.1.6279.6001.107109359065300889765026303943.mhd  \n",
            "  inflating: subset6/1.3.6.1.4.1.14519.5.2.1.6279.6001.107109359065300889765026303943.raw  \n",
            "  inflating: subset6/1.3.6.1.4.1.14519.5.2.1.6279.6001.117040183261056772902616195387.mhd  \n",
            "  inflating: subset6/1.3.6.1.4.1.14519.5.2.1.6279.6001.117040183261056772902616195387.raw  \n",
            "  inflating: subset6/1.3.6.1.4.1.14519.5.2.1.6279.6001.119209873306155771318545953948.mhd  \n",
            "  inflating: subset6/1.3.6.1.4.1.14519.5.2.1.6279.6001.119209873306155771318545953948.raw  \n",
            "  inflating: subset6/1.3.6.1.4.1.14519.5.2.1.6279.6001.119304665257760307862874140576.mhd  \n",
            "  inflating: subset6/1.3.6.1.4.1.14519.5.2.1.6279.6001.119304665257760307862874140576.raw  \n",
            "  inflating: subset6/1.3.6.1.4.1.14519.5.2.1.6279.6001.119515474430718803379832249911.mhd  \n",
            "  inflating: subset6/1.3.6.1.4.1.14519.5.2.1.6279.6001.119515474430718803379832249911.raw  \n",
            "  inflating: subset6/1.3.6.1.4.1.14519.5.2.1.6279.6001.120842785645314664964010792308.mhd  \n",
            "  inflating: subset6/1.3.6.1.4.1.14519.5.2.1.6279.6001.120842785645314664964010792308.raw  \n",
            "  inflating: subset6/1.3.6.1.4.1.14519.5.2.1.6279.6001.123654356399290048011621921476.mhd  \n",
            "  inflating: subset6/1.3.6.1.4.1.14519.5.2.1.6279.6001.123654356399290048011621921476.raw  \n",
            "  inflating: subset6/1.3.6.1.4.1.14519.5.2.1.6279.6001.129007566048223160327836686225.mhd  \n",
            "  inflating: subset6/1.3.6.1.4.1.14519.5.2.1.6279.6001.129007566048223160327836686225.raw  \n",
            "  inflating: subset6/1.3.6.1.4.1.14519.5.2.1.6279.6001.130765375502800983459674173881.mhd  \n",
            "  inflating: subset6/1.3.6.1.4.1.14519.5.2.1.6279.6001.130765375502800983459674173881.raw  \n",
            "  inflating: subset6/1.3.6.1.4.1.14519.5.2.1.6279.6001.136830368929967292376608088362.mhd  \n",
            "  inflating: subset6/1.3.6.1.4.1.14519.5.2.1.6279.6001.136830368929967292376608088362.raw  \n",
            "  inflating: subset6/1.3.6.1.4.1.14519.5.2.1.6279.6001.147325126373007278009743173696.mhd  \n",
            "  inflating: subset6/1.3.6.1.4.1.14519.5.2.1.6279.6001.147325126373007278009743173696.raw  \n",
            "  inflating: subset6/1.3.6.1.4.1.14519.5.2.1.6279.6001.149893110752986700464921264055.mhd  \n",
            "  inflating: subset6/1.3.6.1.4.1.14519.5.2.1.6279.6001.149893110752986700464921264055.raw  \n",
            "  inflating: subset6/1.3.6.1.4.1.14519.5.2.1.6279.6001.150684298696437181894923266019.mhd  \n",
            "  inflating: subset6/1.3.6.1.4.1.14519.5.2.1.6279.6001.150684298696437181894923266019.raw  \n",
            "  inflating: subset6/1.3.6.1.4.1.14519.5.2.1.6279.6001.151764021165118974848436095034.mhd  \n",
            "  inflating: subset6/1.3.6.1.4.1.14519.5.2.1.6279.6001.151764021165118974848436095034.raw  \n",
            "  inflating: subset6/1.3.6.1.4.1.14519.5.2.1.6279.6001.153646219551578201092527860224.mhd  \n",
            "  inflating: subset6/1.3.6.1.4.1.14519.5.2.1.6279.6001.153646219551578201092527860224.raw  \n",
            "  inflating: subset6/1.3.6.1.4.1.14519.5.2.1.6279.6001.156016499715048493339281864474.mhd  \n",
            "  inflating: subset6/1.3.6.1.4.1.14519.5.2.1.6279.6001.156016499715048493339281864474.raw  \n",
            "  inflating: subset6/1.3.6.1.4.1.14519.5.2.1.6279.6001.161067514225109999586362698069.mhd  \n",
            "  inflating: subset6/1.3.6.1.4.1.14519.5.2.1.6279.6001.161067514225109999586362698069.raw  \n",
            "  inflating: subset6/1.3.6.1.4.1.14519.5.2.1.6279.6001.164790817284381538042494285101.mhd  \n",
            "  inflating: subset6/1.3.6.1.4.1.14519.5.2.1.6279.6001.164790817284381538042494285101.raw  \n",
            "  inflating: subset6/1.3.6.1.4.1.14519.5.2.1.6279.6001.167237290696350215427953159586.mhd  \n",
            "  inflating: subset6/1.3.6.1.4.1.14519.5.2.1.6279.6001.167237290696350215427953159586.raw  \n",
            "  inflating: subset6/1.3.6.1.4.1.14519.5.2.1.6279.6001.168737928729363683423228050295.mhd  \n",
            "  inflating: subset6/1.3.6.1.4.1.14519.5.2.1.6279.6001.168737928729363683423228050295.raw  \n",
            "  inflating: subset6/1.3.6.1.4.1.14519.5.2.1.6279.6001.168985655485163461062675655739.mhd  \n",
            "  inflating: subset6/1.3.6.1.4.1.14519.5.2.1.6279.6001.168985655485163461062675655739.raw  \n",
            "  inflating: subset6/1.3.6.1.4.1.14519.5.2.1.6279.6001.170052181746004939527661217512.mhd  \n",
            "  inflating: subset6/1.3.6.1.4.1.14519.5.2.1.6279.6001.170052181746004939527661217512.raw  \n",
            "  inflating: subset6/1.3.6.1.4.1.14519.5.2.1.6279.6001.170921541362033046216100409521.mhd  \n",
            "  inflating: subset6/1.3.6.1.4.1.14519.5.2.1.6279.6001.170921541362033046216100409521.raw  \n",
            "  inflating: subset6/1.3.6.1.4.1.14519.5.2.1.6279.6001.171682845383273105440297561095.mhd  \n",
            "  inflating: subset6/1.3.6.1.4.1.14519.5.2.1.6279.6001.171682845383273105440297561095.raw  \n",
            "  inflating: subset6/1.3.6.1.4.1.14519.5.2.1.6279.6001.173556680294801532247454313511.mhd  \n",
            "  inflating: subset6/1.3.6.1.4.1.14519.5.2.1.6279.6001.173556680294801532247454313511.raw  \n",
            "  inflating: subset6/1.3.6.1.4.1.14519.5.2.1.6279.6001.174168737938619557573021395302.mhd  \n",
            "  inflating: subset6/1.3.6.1.4.1.14519.5.2.1.6279.6001.174168737938619557573021395302.raw  \n",
            "  inflating: subset6/1.3.6.1.4.1.14519.5.2.1.6279.6001.176030616406569931557298712518.mhd  \n",
            "  inflating: subset6/1.3.6.1.4.1.14519.5.2.1.6279.6001.176030616406569931557298712518.raw  \n",
            "  inflating: subset6/1.3.6.1.4.1.14519.5.2.1.6279.6001.177888806135892723698313903329.mhd  \n",
            "  inflating: subset6/1.3.6.1.4.1.14519.5.2.1.6279.6001.177888806135892723698313903329.raw  \n",
            "  inflating: subset6/1.3.6.1.4.1.14519.5.2.1.6279.6001.182798854785392200340436516930.mhd  \n",
            "  inflating: subset6/1.3.6.1.4.1.14519.5.2.1.6279.6001.182798854785392200340436516930.raw  \n",
            "  inflating: subset6/1.3.6.1.4.1.14519.5.2.1.6279.6001.190937805243443708408459490152.mhd  \n",
            "  inflating: subset6/1.3.6.1.4.1.14519.5.2.1.6279.6001.190937805243443708408459490152.raw  \n",
            "  inflating: subset6/1.3.6.1.4.1.14519.5.2.1.6279.6001.200725988589959521302320481687.mhd  \n",
            "  inflating: subset6/1.3.6.1.4.1.14519.5.2.1.6279.6001.200725988589959521302320481687.raw  \n",
            "  inflating: subset6/1.3.6.1.4.1.14519.5.2.1.6279.6001.221017801605543296514746423389.mhd  \n",
            "  inflating: subset6/1.3.6.1.4.1.14519.5.2.1.6279.6001.221017801605543296514746423389.raw  \n",
            "  inflating: subset6/1.3.6.1.4.1.14519.5.2.1.6279.6001.226564372605239604660221582288.mhd  \n",
            "  inflating: subset6/1.3.6.1.4.1.14519.5.2.1.6279.6001.226564372605239604660221582288.raw  \n",
            "  inflating: subset6/1.3.6.1.4.1.14519.5.2.1.6279.6001.233433352108264931671753343044.mhd  \n",
            "  inflating: subset6/1.3.6.1.4.1.14519.5.2.1.6279.6001.233433352108264931671753343044.raw  \n",
            "  inflating: subset6/1.3.6.1.4.1.14519.5.2.1.6279.6001.233652865358649579816568545171.mhd  \n",
            "  inflating: subset6/1.3.6.1.4.1.14519.5.2.1.6279.6001.233652865358649579816568545171.raw  \n",
            "  inflating: subset6/1.3.6.1.4.1.14519.5.2.1.6279.6001.235217371152464582553341729176.mhd  \n",
            "  inflating: subset6/1.3.6.1.4.1.14519.5.2.1.6279.6001.235217371152464582553341729176.raw  \n",
            "  inflating: subset6/1.3.6.1.4.1.14519.5.2.1.6279.6001.240630002689062442926543993263.mhd  \n",
            "  inflating: subset6/1.3.6.1.4.1.14519.5.2.1.6279.6001.240630002689062442926543993263.raw  \n",
            "  inflating: subset6/1.3.6.1.4.1.14519.5.2.1.6279.6001.241717018262666382493757419144.mhd  \n",
            "  inflating: subset6/1.3.6.1.4.1.14519.5.2.1.6279.6001.241717018262666382493757419144.raw  \n",
            "  inflating: subset6/1.3.6.1.4.1.14519.5.2.1.6279.6001.245248446973732759194067808002.mhd  \n",
            "  inflating: subset6/1.3.6.1.4.1.14519.5.2.1.6279.6001.245248446973732759194067808002.raw  \n",
            "  inflating: subset6/1.3.6.1.4.1.14519.5.2.1.6279.6001.247816269490470394602288565775.mhd  \n",
            "  inflating: subset6/1.3.6.1.4.1.14519.5.2.1.6279.6001.247816269490470394602288565775.raw  \n",
            "  inflating: subset6/1.3.6.1.4.1.14519.5.2.1.6279.6001.249450003033735700817635168066.mhd  \n",
            "  inflating: subset6/1.3.6.1.4.1.14519.5.2.1.6279.6001.249450003033735700817635168066.raw  \n",
            "  inflating: subset6/1.3.6.1.4.1.14519.5.2.1.6279.6001.251215764736737018371915284679.mhd  \n",
            "  inflating: subset6/1.3.6.1.4.1.14519.5.2.1.6279.6001.251215764736737018371915284679.raw  \n",
            "  inflating: subset6/1.3.6.1.4.1.14519.5.2.1.6279.6001.252814707117018427472206147014.mhd  \n",
            "  inflating: subset6/1.3.6.1.4.1.14519.5.2.1.6279.6001.252814707117018427472206147014.raw  \n",
            "  inflating: subset6/1.3.6.1.4.1.14519.5.2.1.6279.6001.254138388912084634057282064266.mhd  \n",
            "  inflating: subset6/1.3.6.1.4.1.14519.5.2.1.6279.6001.254138388912084634057282064266.raw  \n",
            "  inflating: subset6/1.3.6.1.4.1.14519.5.2.1.6279.6001.254473943359963613733707320244.mhd  \n",
            "  inflating: subset6/1.3.6.1.4.1.14519.5.2.1.6279.6001.254473943359963613733707320244.raw  \n",
            "  inflating: subset6/1.3.6.1.4.1.14519.5.2.1.6279.6001.255409701134762680010928250229.mhd  \n",
            "  inflating: subset6/1.3.6.1.4.1.14519.5.2.1.6279.6001.255409701134762680010928250229.raw  \n",
            "  inflating: subset6/1.3.6.1.4.1.14519.5.2.1.6279.6001.266009527139315622265711325223.mhd  \n",
            "  inflating: subset6/1.3.6.1.4.1.14519.5.2.1.6279.6001.266009527139315622265711325223.raw  \n",
            "  inflating: subset6/1.3.6.1.4.1.14519.5.2.1.6279.6001.270951128717816232360812849541.mhd  \n",
            "  inflating: subset6/1.3.6.1.4.1.14519.5.2.1.6279.6001.270951128717816232360812849541.raw  \n",
            "  inflating: subset6/1.3.6.1.4.1.14519.5.2.1.6279.6001.275849601663847251574860892603.mhd  \n",
            "  inflating: subset6/1.3.6.1.4.1.14519.5.2.1.6279.6001.275849601663847251574860892603.raw  \n",
            "  inflating: subset6/1.3.6.1.4.1.14519.5.2.1.6279.6001.277452631455527999380186898011.mhd  \n",
            "  inflating: subset6/1.3.6.1.4.1.14519.5.2.1.6279.6001.277452631455527999380186898011.raw  \n",
            "  inflating: subset6/1.3.6.1.4.1.14519.5.2.1.6279.6001.282779922503707013097174625409.mhd  \n",
            "  inflating: subset6/1.3.6.1.4.1.14519.5.2.1.6279.6001.282779922503707013097174625409.raw  \n",
            "  inflating: subset6/1.3.6.1.4.1.14519.5.2.1.6279.6001.286217539434358186648717203667.mhd  \n",
            "  inflating: subset6/1.3.6.1.4.1.14519.5.2.1.6279.6001.286217539434358186648717203667.raw  \n",
            "  inflating: subset6/1.3.6.1.4.1.14519.5.2.1.6279.6001.290410217650314119074833254861.mhd  \n",
            "  inflating: subset6/1.3.6.1.4.1.14519.5.2.1.6279.6001.290410217650314119074833254861.raw  \n",
            "  inflating: subset6/1.3.6.1.4.1.14519.5.2.1.6279.6001.292194861362266467652267941663.mhd  \n",
            "  inflating: subset6/1.3.6.1.4.1.14519.5.2.1.6279.6001.292194861362266467652267941663.raw  \n",
            "  inflating: subset6/1.3.6.1.4.1.14519.5.2.1.6279.6001.297251044869095073091780740645.mhd  \n",
            "  inflating: subset6/1.3.6.1.4.1.14519.5.2.1.6279.6001.297251044869095073091780740645.raw  \n",
            "  inflating: subset6/1.3.6.1.4.1.14519.5.2.1.6279.6001.306558074682524259000586270818.mhd  \n",
            "  inflating: subset6/1.3.6.1.4.1.14519.5.2.1.6279.6001.306558074682524259000586270818.raw  \n",
            "  inflating: subset6/1.3.6.1.4.1.14519.5.2.1.6279.6001.307921770358136677021532761235.mhd  \n",
            "  inflating: subset6/1.3.6.1.4.1.14519.5.2.1.6279.6001.307921770358136677021532761235.raw  \n",
            "  inflating: subset6/1.3.6.1.4.1.14519.5.2.1.6279.6001.308153138776443962077214577161.mhd  \n",
            "  inflating: subset6/1.3.6.1.4.1.14519.5.2.1.6279.6001.308153138776443962077214577161.raw  \n",
            "  inflating: subset6/1.3.6.1.4.1.14519.5.2.1.6279.6001.309955999522338651429118207446.mhd  \n",
            "  inflating: subset6/1.3.6.1.4.1.14519.5.2.1.6279.6001.309955999522338651429118207446.raw  \n",
            "  inflating: subset6/1.3.6.1.4.1.14519.5.2.1.6279.6001.313756547848086902190878548835.mhd  \n",
            "  inflating: subset6/1.3.6.1.4.1.14519.5.2.1.6279.6001.313756547848086902190878548835.raw  \n",
            "  inflating: subset6/1.3.6.1.4.1.14519.5.2.1.6279.6001.315187221221054114974341475212.mhd  \n",
            "  inflating: subset6/1.3.6.1.4.1.14519.5.2.1.6279.6001.315187221221054114974341475212.raw  \n",
            "  inflating: subset6/1.3.6.1.4.1.14519.5.2.1.6279.6001.315770913282450940389971401304.mhd  \n",
            "  inflating: subset6/1.3.6.1.4.1.14519.5.2.1.6279.6001.315770913282450940389971401304.raw  \n",
            "  inflating: subset6/1.3.6.1.4.1.14519.5.2.1.6279.6001.316900421002460665752357657094.mhd  \n",
            "  inflating: subset6/1.3.6.1.4.1.14519.5.2.1.6279.6001.316900421002460665752357657094.raw  \n",
            "  inflating: subset6/1.3.6.1.4.1.14519.5.2.1.6279.6001.316911475886263032009840828684.mhd  \n",
            "  inflating: subset6/1.3.6.1.4.1.14519.5.2.1.6279.6001.316911475886263032009840828684.raw  \n",
            "  inflating: subset6/1.3.6.1.4.1.14519.5.2.1.6279.6001.321935195060268166151738328001.mhd  \n",
            "  inflating: subset6/1.3.6.1.4.1.14519.5.2.1.6279.6001.321935195060268166151738328001.raw  \n",
            "  inflating: subset6/1.3.6.1.4.1.14519.5.2.1.6279.6001.329404588567903628160652715124.mhd  \n",
            "  inflating: subset6/1.3.6.1.4.1.14519.5.2.1.6279.6001.329404588567903628160652715124.raw  \n",
            "  inflating: subset6/1.3.6.1.4.1.14519.5.2.1.6279.6001.329624439086643515259182406526.mhd  \n",
            "  inflating: subset6/1.3.6.1.4.1.14519.5.2.1.6279.6001.329624439086643515259182406526.raw  \n",
            "  inflating: subset6/1.3.6.1.4.1.14519.5.2.1.6279.6001.330544495001617450666819906758.mhd  \n",
            "  inflating: subset6/1.3.6.1.4.1.14519.5.2.1.6279.6001.330544495001617450666819906758.raw  \n",
            "  inflating: subset6/1.3.6.1.4.1.14519.5.2.1.6279.6001.338447145504282422142824032832.mhd  \n",
            "  inflating: subset6/1.3.6.1.4.1.14519.5.2.1.6279.6001.338447145504282422142824032832.raw  \n",
            "  inflating: subset6/1.3.6.1.4.1.14519.5.2.1.6279.6001.341557859428950960906150406596.mhd  \n",
            "  inflating: subset6/1.3.6.1.4.1.14519.5.2.1.6279.6001.341557859428950960906150406596.raw  \n",
            "  inflating: subset6/1.3.6.1.4.1.14519.5.2.1.6279.6001.404457313935200882843898832756.mhd  \n",
            "  inflating: subset6/1.3.6.1.4.1.14519.5.2.1.6279.6001.404457313935200882843898832756.raw  \n",
            "  inflating: subset6/1.3.6.1.4.1.14519.5.2.1.6279.6001.414288023902112119945238126594.mhd  \n",
            "  inflating: subset6/1.3.6.1.4.1.14519.5.2.1.6279.6001.414288023902112119945238126594.raw  \n",
            "  inflating: subset6/1.3.6.1.4.1.14519.5.2.1.6279.6001.416701701108520592702405866796.mhd  \n",
            "  inflating: subset6/1.3.6.1.4.1.14519.5.2.1.6279.6001.416701701108520592702405866796.raw  \n",
            "  inflating: subset6/1.3.6.1.4.1.14519.5.2.1.6279.6001.463588161905537526756964393219.mhd  \n",
            "  inflating: subset6/1.3.6.1.4.1.14519.5.2.1.6279.6001.463588161905537526756964393219.raw  \n",
            "  inflating: subset6/1.3.6.1.4.1.14519.5.2.1.6279.6001.465032801496479029639448332481.mhd  \n",
            "  inflating: subset6/1.3.6.1.4.1.14519.5.2.1.6279.6001.465032801496479029639448332481.raw  \n",
            "  inflating: subset6/1.3.6.1.4.1.14519.5.2.1.6279.6001.475325201787910087416720919680.mhd  \n",
            "  inflating: subset6/1.3.6.1.4.1.14519.5.2.1.6279.6001.475325201787910087416720919680.raw  \n",
            "  inflating: subset6/1.3.6.1.4.1.14519.5.2.1.6279.6001.513023675145166449943177283490.mhd  \n",
            "  inflating: subset6/1.3.6.1.4.1.14519.5.2.1.6279.6001.513023675145166449943177283490.raw  \n",
            "  inflating: subset6/1.3.6.1.4.1.14519.5.2.1.6279.6001.561423049201987049884663740668.mhd  \n",
            "  inflating: subset6/1.3.6.1.4.1.14519.5.2.1.6279.6001.561423049201987049884663740668.raw  \n",
            "  inflating: subset6/1.3.6.1.4.1.14519.5.2.1.6279.6001.569096986145782511000054443951.mhd  \n",
            "  inflating: subset6/1.3.6.1.4.1.14519.5.2.1.6279.6001.569096986145782511000054443951.raw  \n",
            "  inflating: subset6/1.3.6.1.4.1.14519.5.2.1.6279.6001.618434772073433276874225174904.mhd  \n",
            "  inflating: subset6/1.3.6.1.4.1.14519.5.2.1.6279.6001.618434772073433276874225174904.raw  \n",
            "  inflating: subset6/1.3.6.1.4.1.14519.5.2.1.6279.6001.652347820272212119124022644822.mhd  \n",
            "  inflating: subset6/1.3.6.1.4.1.14519.5.2.1.6279.6001.652347820272212119124022644822.raw  \n",
            "  inflating: subset6/1.3.6.1.4.1.14519.5.2.1.6279.6001.658611160253017715059194304729.mhd  \n",
            "  inflating: subset6/1.3.6.1.4.1.14519.5.2.1.6279.6001.658611160253017715059194304729.raw  \n",
            "  inflating: subset6/1.3.6.1.4.1.14519.5.2.1.6279.6001.669435869708883155232318480131.mhd  \n",
            "  inflating: subset6/1.3.6.1.4.1.14519.5.2.1.6279.6001.669435869708883155232318480131.raw  \n",
            "  inflating: subset6/1.3.6.1.4.1.14519.5.2.1.6279.6001.725236073737175770730904408416.mhd  \n",
            "  inflating: subset6/1.3.6.1.4.1.14519.5.2.1.6279.6001.725236073737175770730904408416.raw  \n",
            "  inflating: subset6/1.3.6.1.4.1.14519.5.2.1.6279.6001.803987517543436570820681016103.mhd  \n",
            "  inflating: subset6/1.3.6.1.4.1.14519.5.2.1.6279.6001.803987517543436570820681016103.raw  \n",
            "  inflating: subset6/1.3.6.1.4.1.14519.5.2.1.6279.6001.877026508860018521147620598474.mhd  \n",
            "  inflating: subset6/1.3.6.1.4.1.14519.5.2.1.6279.6001.877026508860018521147620598474.raw  \n",
            "  inflating: subset6/1.3.6.1.4.1.14519.5.2.1.6279.6001.948414623428298219623354433437.mhd  \n",
            "  inflating: subset6/1.3.6.1.4.1.14519.5.2.1.6279.6001.948414623428298219623354433437.raw  \n",
            "  inflating: subset6/1.3.6.1.4.1.14519.5.2.1.6279.6001.955688628308192728558382581802.mhd  \n",
            "  inflating: subset6/1.3.6.1.4.1.14519.5.2.1.6279.6001.955688628308192728558382581802.raw  \n"
          ]
        }
      ]
    },
    {
      "cell_type": "code",
      "source": [
        "!rm -rf /content/subset6.zip"
      ],
      "metadata": {
        "id": "vUQntsyrw_hY"
      },
      "execution_count": null,
      "outputs": []
    },
    {
      "cell_type": "code",
      "source": [
        "!mkdir DATA"
      ],
      "metadata": {
        "id": "ocOR_JnPvr6t"
      },
      "execution_count": null,
      "outputs": []
    },
    {
      "cell_type": "code",
      "source": [
        "!mkdir ProcessedData"
      ],
      "metadata": {
        "id": "YWWD9GB-v0kG"
      },
      "execution_count": null,
      "outputs": []
    },
    {
      "cell_type": "code",
      "source": [
        "!mkdir /content/ProcessedData/nodule_mask\n",
        "!mkdir /content/ProcessedData/lungs_roi"
      ],
      "metadata": {
        "id": "ltA781CIv9jc"
      },
      "execution_count": null,
      "outputs": []
    },
    {
      "cell_type": "code",
      "source": [
        "from google.colab import files\n",
        "uploaded = files.upload()"
      ],
      "metadata": {
        "colab": {
          "base_uri": "https://localhost:8080/",
          "height": 73
        },
        "id": "zSXKhj-EwY9K",
        "outputId": "de022b53-9a05-4d4c-fd0b-f15c99346e7f"
      },
      "execution_count": null,
      "outputs": [
        {
          "output_type": "display_data",
          "data": {
            "text/plain": [
              "<IPython.core.display.HTML object>"
            ],
            "text/html": [
              "\n",
              "     <input type=\"file\" id=\"files-53f77b8e-68c5-41d2-9cc1-008da297dc04\" name=\"files[]\" multiple disabled\n",
              "        style=\"border:none\" />\n",
              "     <output id=\"result-53f77b8e-68c5-41d2-9cc1-008da297dc04\">\n",
              "      Upload widget is only available when the cell has been executed in the\n",
              "      current browser session. Please rerun this cell to enable.\n",
              "      </output>\n",
              "      <script>// Copyright 2017 Google LLC\n",
              "//\n",
              "// Licensed under the Apache License, Version 2.0 (the \"License\");\n",
              "// you may not use this file except in compliance with the License.\n",
              "// You may obtain a copy of the License at\n",
              "//\n",
              "//      http://www.apache.org/licenses/LICENSE-2.0\n",
              "//\n",
              "// Unless required by applicable law or agreed to in writing, software\n",
              "// distributed under the License is distributed on an \"AS IS\" BASIS,\n",
              "// WITHOUT WARRANTIES OR CONDITIONS OF ANY KIND, either express or implied.\n",
              "// See the License for the specific language governing permissions and\n",
              "// limitations under the License.\n",
              "\n",
              "/**\n",
              " * @fileoverview Helpers for google.colab Python module.\n",
              " */\n",
              "(function(scope) {\n",
              "function span(text, styleAttributes = {}) {\n",
              "  const element = document.createElement('span');\n",
              "  element.textContent = text;\n",
              "  for (const key of Object.keys(styleAttributes)) {\n",
              "    element.style[key] = styleAttributes[key];\n",
              "  }\n",
              "  return element;\n",
              "}\n",
              "\n",
              "// Max number of bytes which will be uploaded at a time.\n",
              "const MAX_PAYLOAD_SIZE = 100 * 1024;\n",
              "\n",
              "function _uploadFiles(inputId, outputId) {\n",
              "  const steps = uploadFilesStep(inputId, outputId);\n",
              "  const outputElement = document.getElementById(outputId);\n",
              "  // Cache steps on the outputElement to make it available for the next call\n",
              "  // to uploadFilesContinue from Python.\n",
              "  outputElement.steps = steps;\n",
              "\n",
              "  return _uploadFilesContinue(outputId);\n",
              "}\n",
              "\n",
              "// This is roughly an async generator (not supported in the browser yet),\n",
              "// where there are multiple asynchronous steps and the Python side is going\n",
              "// to poll for completion of each step.\n",
              "// This uses a Promise to block the python side on completion of each step,\n",
              "// then passes the result of the previous step as the input to the next step.\n",
              "function _uploadFilesContinue(outputId) {\n",
              "  const outputElement = document.getElementById(outputId);\n",
              "  const steps = outputElement.steps;\n",
              "\n",
              "  const next = steps.next(outputElement.lastPromiseValue);\n",
              "  return Promise.resolve(next.value.promise).then((value) => {\n",
              "    // Cache the last promise value to make it available to the next\n",
              "    // step of the generator.\n",
              "    outputElement.lastPromiseValue = value;\n",
              "    return next.value.response;\n",
              "  });\n",
              "}\n",
              "\n",
              "/**\n",
              " * Generator function which is called between each async step of the upload\n",
              " * process.\n",
              " * @param {string} inputId Element ID of the input file picker element.\n",
              " * @param {string} outputId Element ID of the output display.\n",
              " * @return {!Iterable<!Object>} Iterable of next steps.\n",
              " */\n",
              "function* uploadFilesStep(inputId, outputId) {\n",
              "  const inputElement = document.getElementById(inputId);\n",
              "  inputElement.disabled = false;\n",
              "\n",
              "  const outputElement = document.getElementById(outputId);\n",
              "  outputElement.innerHTML = '';\n",
              "\n",
              "  const pickedPromise = new Promise((resolve) => {\n",
              "    inputElement.addEventListener('change', (e) => {\n",
              "      resolve(e.target.files);\n",
              "    });\n",
              "  });\n",
              "\n",
              "  const cancel = document.createElement('button');\n",
              "  inputElement.parentElement.appendChild(cancel);\n",
              "  cancel.textContent = 'Cancel upload';\n",
              "  const cancelPromise = new Promise((resolve) => {\n",
              "    cancel.onclick = () => {\n",
              "      resolve(null);\n",
              "    };\n",
              "  });\n",
              "\n",
              "  // Wait for the user to pick the files.\n",
              "  const files = yield {\n",
              "    promise: Promise.race([pickedPromise, cancelPromise]),\n",
              "    response: {\n",
              "      action: 'starting',\n",
              "    }\n",
              "  };\n",
              "\n",
              "  cancel.remove();\n",
              "\n",
              "  // Disable the input element since further picks are not allowed.\n",
              "  inputElement.disabled = true;\n",
              "\n",
              "  if (!files) {\n",
              "    return {\n",
              "      response: {\n",
              "        action: 'complete',\n",
              "      }\n",
              "    };\n",
              "  }\n",
              "\n",
              "  for (const file of files) {\n",
              "    const li = document.createElement('li');\n",
              "    li.append(span(file.name, {fontWeight: 'bold'}));\n",
              "    li.append(span(\n",
              "        `(${file.type || 'n/a'}) - ${file.size} bytes, ` +\n",
              "        `last modified: ${\n",
              "            file.lastModifiedDate ? file.lastModifiedDate.toLocaleDateString() :\n",
              "                                    'n/a'} - `));\n",
              "    const percent = span('0% done');\n",
              "    li.appendChild(percent);\n",
              "\n",
              "    outputElement.appendChild(li);\n",
              "\n",
              "    const fileDataPromise = new Promise((resolve) => {\n",
              "      const reader = new FileReader();\n",
              "      reader.onload = (e) => {\n",
              "        resolve(e.target.result);\n",
              "      };\n",
              "      reader.readAsArrayBuffer(file);\n",
              "    });\n",
              "    // Wait for the data to be ready.\n",
              "    let fileData = yield {\n",
              "      promise: fileDataPromise,\n",
              "      response: {\n",
              "        action: 'continue',\n",
              "      }\n",
              "    };\n",
              "\n",
              "    // Use a chunked sending to avoid message size limits. See b/62115660.\n",
              "    let position = 0;\n",
              "    do {\n",
              "      const length = Math.min(fileData.byteLength - position, MAX_PAYLOAD_SIZE);\n",
              "      const chunk = new Uint8Array(fileData, position, length);\n",
              "      position += length;\n",
              "\n",
              "      const base64 = btoa(String.fromCharCode.apply(null, chunk));\n",
              "      yield {\n",
              "        response: {\n",
              "          action: 'append',\n",
              "          file: file.name,\n",
              "          data: base64,\n",
              "        },\n",
              "      };\n",
              "\n",
              "      let percentDone = fileData.byteLength === 0 ?\n",
              "          100 :\n",
              "          Math.round((position / fileData.byteLength) * 100);\n",
              "      percent.textContent = `${percentDone}% done`;\n",
              "\n",
              "    } while (position < fileData.byteLength);\n",
              "  }\n",
              "\n",
              "  // All done.\n",
              "  yield {\n",
              "    response: {\n",
              "      action: 'complete',\n",
              "    }\n",
              "  };\n",
              "}\n",
              "\n",
              "scope.google = scope.google || {};\n",
              "scope.google.colab = scope.google.colab || {};\n",
              "scope.google.colab._files = {\n",
              "  _uploadFiles,\n",
              "  _uploadFilesContinue,\n",
              "};\n",
              "})(self);\n",
              "</script> "
            ]
          },
          "metadata": {}
        },
        {
          "output_type": "stream",
          "name": "stdout",
          "text": [
            "Saving annotations.csv to annotations.csv\n"
          ]
        }
      ]
    },
    {
      "cell_type": "code",
      "source": [
        "from google.colab import files\n",
        "uploaded = files.upload()"
      ],
      "metadata": {
        "colab": {
          "base_uri": "https://localhost:8080/",
          "height": 73
        },
        "id": "bqVYx4UyweTb",
        "outputId": "392e34e4-e704-4f41-bc4c-cc553170fd12"
      },
      "execution_count": null,
      "outputs": [
        {
          "output_type": "display_data",
          "data": {
            "text/plain": [
              "<IPython.core.display.HTML object>"
            ],
            "text/html": [
              "\n",
              "     <input type=\"file\" id=\"files-e724ccf8-00cb-41fe-bde3-83cd7f7815d0\" name=\"files[]\" multiple disabled\n",
              "        style=\"border:none\" />\n",
              "     <output id=\"result-e724ccf8-00cb-41fe-bde3-83cd7f7815d0\">\n",
              "      Upload widget is only available when the cell has been executed in the\n",
              "      current browser session. Please rerun this cell to enable.\n",
              "      </output>\n",
              "      <script>// Copyright 2017 Google LLC\n",
              "//\n",
              "// Licensed under the Apache License, Version 2.0 (the \"License\");\n",
              "// you may not use this file except in compliance with the License.\n",
              "// You may obtain a copy of the License at\n",
              "//\n",
              "//      http://www.apache.org/licenses/LICENSE-2.0\n",
              "//\n",
              "// Unless required by applicable law or agreed to in writing, software\n",
              "// distributed under the License is distributed on an \"AS IS\" BASIS,\n",
              "// WITHOUT WARRANTIES OR CONDITIONS OF ANY KIND, either express or implied.\n",
              "// See the License for the specific language governing permissions and\n",
              "// limitations under the License.\n",
              "\n",
              "/**\n",
              " * @fileoverview Helpers for google.colab Python module.\n",
              " */\n",
              "(function(scope) {\n",
              "function span(text, styleAttributes = {}) {\n",
              "  const element = document.createElement('span');\n",
              "  element.textContent = text;\n",
              "  for (const key of Object.keys(styleAttributes)) {\n",
              "    element.style[key] = styleAttributes[key];\n",
              "  }\n",
              "  return element;\n",
              "}\n",
              "\n",
              "// Max number of bytes which will be uploaded at a time.\n",
              "const MAX_PAYLOAD_SIZE = 100 * 1024;\n",
              "\n",
              "function _uploadFiles(inputId, outputId) {\n",
              "  const steps = uploadFilesStep(inputId, outputId);\n",
              "  const outputElement = document.getElementById(outputId);\n",
              "  // Cache steps on the outputElement to make it available for the next call\n",
              "  // to uploadFilesContinue from Python.\n",
              "  outputElement.steps = steps;\n",
              "\n",
              "  return _uploadFilesContinue(outputId);\n",
              "}\n",
              "\n",
              "// This is roughly an async generator (not supported in the browser yet),\n",
              "// where there are multiple asynchronous steps and the Python side is going\n",
              "// to poll for completion of each step.\n",
              "// This uses a Promise to block the python side on completion of each step,\n",
              "// then passes the result of the previous step as the input to the next step.\n",
              "function _uploadFilesContinue(outputId) {\n",
              "  const outputElement = document.getElementById(outputId);\n",
              "  const steps = outputElement.steps;\n",
              "\n",
              "  const next = steps.next(outputElement.lastPromiseValue);\n",
              "  return Promise.resolve(next.value.promise).then((value) => {\n",
              "    // Cache the last promise value to make it available to the next\n",
              "    // step of the generator.\n",
              "    outputElement.lastPromiseValue = value;\n",
              "    return next.value.response;\n",
              "  });\n",
              "}\n",
              "\n",
              "/**\n",
              " * Generator function which is called between each async step of the upload\n",
              " * process.\n",
              " * @param {string} inputId Element ID of the input file picker element.\n",
              " * @param {string} outputId Element ID of the output display.\n",
              " * @return {!Iterable<!Object>} Iterable of next steps.\n",
              " */\n",
              "function* uploadFilesStep(inputId, outputId) {\n",
              "  const inputElement = document.getElementById(inputId);\n",
              "  inputElement.disabled = false;\n",
              "\n",
              "  const outputElement = document.getElementById(outputId);\n",
              "  outputElement.innerHTML = '';\n",
              "\n",
              "  const pickedPromise = new Promise((resolve) => {\n",
              "    inputElement.addEventListener('change', (e) => {\n",
              "      resolve(e.target.files);\n",
              "    });\n",
              "  });\n",
              "\n",
              "  const cancel = document.createElement('button');\n",
              "  inputElement.parentElement.appendChild(cancel);\n",
              "  cancel.textContent = 'Cancel upload';\n",
              "  const cancelPromise = new Promise((resolve) => {\n",
              "    cancel.onclick = () => {\n",
              "      resolve(null);\n",
              "    };\n",
              "  });\n",
              "\n",
              "  // Wait for the user to pick the files.\n",
              "  const files = yield {\n",
              "    promise: Promise.race([pickedPromise, cancelPromise]),\n",
              "    response: {\n",
              "      action: 'starting',\n",
              "    }\n",
              "  };\n",
              "\n",
              "  cancel.remove();\n",
              "\n",
              "  // Disable the input element since further picks are not allowed.\n",
              "  inputElement.disabled = true;\n",
              "\n",
              "  if (!files) {\n",
              "    return {\n",
              "      response: {\n",
              "        action: 'complete',\n",
              "      }\n",
              "    };\n",
              "  }\n",
              "\n",
              "  for (const file of files) {\n",
              "    const li = document.createElement('li');\n",
              "    li.append(span(file.name, {fontWeight: 'bold'}));\n",
              "    li.append(span(\n",
              "        `(${file.type || 'n/a'}) - ${file.size} bytes, ` +\n",
              "        `last modified: ${\n",
              "            file.lastModifiedDate ? file.lastModifiedDate.toLocaleDateString() :\n",
              "                                    'n/a'} - `));\n",
              "    const percent = span('0% done');\n",
              "    li.appendChild(percent);\n",
              "\n",
              "    outputElement.appendChild(li);\n",
              "\n",
              "    const fileDataPromise = new Promise((resolve) => {\n",
              "      const reader = new FileReader();\n",
              "      reader.onload = (e) => {\n",
              "        resolve(e.target.result);\n",
              "      };\n",
              "      reader.readAsArrayBuffer(file);\n",
              "    });\n",
              "    // Wait for the data to be ready.\n",
              "    let fileData = yield {\n",
              "      promise: fileDataPromise,\n",
              "      response: {\n",
              "        action: 'continue',\n",
              "      }\n",
              "    };\n",
              "\n",
              "    // Use a chunked sending to avoid message size limits. See b/62115660.\n",
              "    let position = 0;\n",
              "    do {\n",
              "      const length = Math.min(fileData.byteLength - position, MAX_PAYLOAD_SIZE);\n",
              "      const chunk = new Uint8Array(fileData, position, length);\n",
              "      position += length;\n",
              "\n",
              "      const base64 = btoa(String.fromCharCode.apply(null, chunk));\n",
              "      yield {\n",
              "        response: {\n",
              "          action: 'append',\n",
              "          file: file.name,\n",
              "          data: base64,\n",
              "        },\n",
              "      };\n",
              "\n",
              "      let percentDone = fileData.byteLength === 0 ?\n",
              "          100 :\n",
              "          Math.round((position / fileData.byteLength) * 100);\n",
              "      percent.textContent = `${percentDone}% done`;\n",
              "\n",
              "    } while (position < fileData.byteLength);\n",
              "  }\n",
              "\n",
              "  // All done.\n",
              "  yield {\n",
              "    response: {\n",
              "      action: 'complete',\n",
              "    }\n",
              "  };\n",
              "}\n",
              "\n",
              "scope.google = scope.google || {};\n",
              "scope.google.colab = scope.google.colab || {};\n",
              "scope.google.colab._files = {\n",
              "  _uploadFiles,\n",
              "  _uploadFilesContinue,\n",
              "};\n",
              "})(self);\n",
              "</script> "
            ]
          },
          "metadata": {}
        },
        {
          "output_type": "stream",
          "name": "stdout",
          "text": [
            "Saving candidates.csv to candidates.csv\n"
          ]
        }
      ]
    },
    {
      "cell_type": "code",
      "source": [
        "!mv /content/subset6 DATA\n",
        "!mv annotations.csv DATA\n",
        "!mv candidates.csv DATA"
      ],
      "metadata": {
        "colab": {
          "base_uri": "https://localhost:8080/"
        },
        "id": "OHZG5DQR0dTb",
        "outputId": "822a4e08-85ac-43ee-db85-8ab3c8743243"
      },
      "execution_count": null,
      "outputs": [
        {
          "output_type": "stream",
          "name": "stdout",
          "text": [
            "mv: cannot stat 'annotations.csv': No such file or directory\n",
            "mv: cannot stat 'candidates.csv': No such file or directory\n"
          ]
        }
      ]
    },
    {
      "cell_type": "code",
      "source": [
        "!pip install SimpleITK"
      ],
      "metadata": {
        "colab": {
          "base_uri": "https://localhost:8080/"
        },
        "id": "8NLJjTlp1Htb",
        "outputId": "482e5dc9-0097-4047-81e2-825836ad5399"
      },
      "execution_count": null,
      "outputs": [
        {
          "output_type": "stream",
          "name": "stdout",
          "text": [
            "Looking in indexes: https://pypi.org/simple, https://us-python.pkg.dev/colab-wheels/public/simple/\n",
            "Collecting SimpleITK\n",
            "  Downloading SimpleITK-2.2.1-cp38-cp38-manylinux_2_17_x86_64.manylinux2014_x86_64.whl (52.7 MB)\n",
            "\u001b[2K     \u001b[90m━━━━━━━━━━━━━━━━━━━━━━━━━━━━━━━━━━━━━━━━\u001b[0m \u001b[32m52.7/52.7 MB\u001b[0m \u001b[31m15.9 MB/s\u001b[0m eta \u001b[36m0:00:00\u001b[0m\n",
            "\u001b[?25hInstalling collected packages: SimpleITK\n",
            "Successfully installed SimpleITK-2.2.1\n"
          ]
        }
      ]
    },
    {
      "cell_type": "code",
      "source": [
        "import os\n",
        "import cv2\n",
        "import copy\n",
        "import numpy as np\n",
        "import pandas as pd\n",
        "from glob import glob\n",
        "from tqdm import tqdm\n",
        "\n",
        "import SimpleITK as stk\n",
        "import matplotlib.pyplot as plt\n",
        "\n",
        "from sklearn.cluster import KMeans\n",
        "from skimage import measure"
      ],
      "metadata": {
        "id": "U67SkGuC12Hc"
      },
      "execution_count": null,
      "outputs": []
    },
    {
      "cell_type": "code",
      "source": [
        "root = \"/content/DATA/\"\n",
        "target_root = \"/content/ProcessedData/\""
      ],
      "metadata": {
        "id": "uJHgUBSA17CO"
      },
      "execution_count": null,
      "outputs": []
    },
    {
      "cell_type": "code",
      "source": [
        "file_list = glob(root+f\"subset6/*.mhd\") #replace according to your subset number\n",
        "annotations_df = pd.read_csv(root+\"annotations.csv\")\n",
        "print(\"Files Count:\",len(file_list))\n",
        "print(\"DF Count:\",len(annotations_df))\n",
        "annotations_df.head()"
      ],
      "metadata": {
        "colab": {
          "base_uri": "https://localhost:8080/",
          "height": 241
        },
        "id": "-fvB2ibG19-W",
        "outputId": "d59d800d-97d8-47d4-a42f-2a5e942143a8"
      },
      "execution_count": null,
      "outputs": [
        {
          "output_type": "stream",
          "name": "stdout",
          "text": [
            "Files Count: 89\n",
            "DF Count: 1186\n"
          ]
        },
        {
          "output_type": "execute_result",
          "data": {
            "text/plain": [
              "                                           seriesuid      coordX      coordY  \\\n",
              "0  1.3.6.1.4.1.14519.5.2.1.6279.6001.100225287222... -128.699421 -175.319272   \n",
              "1  1.3.6.1.4.1.14519.5.2.1.6279.6001.100225287222...  103.783651 -211.925149   \n",
              "2  1.3.6.1.4.1.14519.5.2.1.6279.6001.100398138793...   69.639017 -140.944586   \n",
              "3  1.3.6.1.4.1.14519.5.2.1.6279.6001.100621383016...  -24.013824  192.102405   \n",
              "4  1.3.6.1.4.1.14519.5.2.1.6279.6001.100621383016...    2.441547  172.464881   \n",
              "\n",
              "       coordZ  diameter_mm  \n",
              "0 -298.387506     5.651471  \n",
              "1 -227.121250     4.224708  \n",
              "2  876.374496     5.786348  \n",
              "3 -391.081276     8.143262  \n",
              "4 -405.493732    18.545150  "
            ],
            "text/html": [
              "\n",
              "  <div id=\"df-3233dda3-e3de-47c4-b4a9-179dc3fb3b15\">\n",
              "    <div class=\"colab-df-container\">\n",
              "      <div>\n",
              "<style scoped>\n",
              "    .dataframe tbody tr th:only-of-type {\n",
              "        vertical-align: middle;\n",
              "    }\n",
              "\n",
              "    .dataframe tbody tr th {\n",
              "        vertical-align: top;\n",
              "    }\n",
              "\n",
              "    .dataframe thead th {\n",
              "        text-align: right;\n",
              "    }\n",
              "</style>\n",
              "<table border=\"1\" class=\"dataframe\">\n",
              "  <thead>\n",
              "    <tr style=\"text-align: right;\">\n",
              "      <th></th>\n",
              "      <th>seriesuid</th>\n",
              "      <th>coordX</th>\n",
              "      <th>coordY</th>\n",
              "      <th>coordZ</th>\n",
              "      <th>diameter_mm</th>\n",
              "    </tr>\n",
              "  </thead>\n",
              "  <tbody>\n",
              "    <tr>\n",
              "      <th>0</th>\n",
              "      <td>1.3.6.1.4.1.14519.5.2.1.6279.6001.100225287222...</td>\n",
              "      <td>-128.699421</td>\n",
              "      <td>-175.319272</td>\n",
              "      <td>-298.387506</td>\n",
              "      <td>5.651471</td>\n",
              "    </tr>\n",
              "    <tr>\n",
              "      <th>1</th>\n",
              "      <td>1.3.6.1.4.1.14519.5.2.1.6279.6001.100225287222...</td>\n",
              "      <td>103.783651</td>\n",
              "      <td>-211.925149</td>\n",
              "      <td>-227.121250</td>\n",
              "      <td>4.224708</td>\n",
              "    </tr>\n",
              "    <tr>\n",
              "      <th>2</th>\n",
              "      <td>1.3.6.1.4.1.14519.5.2.1.6279.6001.100398138793...</td>\n",
              "      <td>69.639017</td>\n",
              "      <td>-140.944586</td>\n",
              "      <td>876.374496</td>\n",
              "      <td>5.786348</td>\n",
              "    </tr>\n",
              "    <tr>\n",
              "      <th>3</th>\n",
              "      <td>1.3.6.1.4.1.14519.5.2.1.6279.6001.100621383016...</td>\n",
              "      <td>-24.013824</td>\n",
              "      <td>192.102405</td>\n",
              "      <td>-391.081276</td>\n",
              "      <td>8.143262</td>\n",
              "    </tr>\n",
              "    <tr>\n",
              "      <th>4</th>\n",
              "      <td>1.3.6.1.4.1.14519.5.2.1.6279.6001.100621383016...</td>\n",
              "      <td>2.441547</td>\n",
              "      <td>172.464881</td>\n",
              "      <td>-405.493732</td>\n",
              "      <td>18.545150</td>\n",
              "    </tr>\n",
              "  </tbody>\n",
              "</table>\n",
              "</div>\n",
              "      <button class=\"colab-df-convert\" onclick=\"convertToInteractive('df-3233dda3-e3de-47c4-b4a9-179dc3fb3b15')\"\n",
              "              title=\"Convert this dataframe to an interactive table.\"\n",
              "              style=\"display:none;\">\n",
              "        \n",
              "  <svg xmlns=\"http://www.w3.org/2000/svg\" height=\"24px\"viewBox=\"0 0 24 24\"\n",
              "       width=\"24px\">\n",
              "    <path d=\"M0 0h24v24H0V0z\" fill=\"none\"/>\n",
              "    <path d=\"M18.56 5.44l.94 2.06.94-2.06 2.06-.94-2.06-.94-.94-2.06-.94 2.06-2.06.94zm-11 1L8.5 8.5l.94-2.06 2.06-.94-2.06-.94L8.5 2.5l-.94 2.06-2.06.94zm10 10l.94 2.06.94-2.06 2.06-.94-2.06-.94-.94-2.06-.94 2.06-2.06.94z\"/><path d=\"M17.41 7.96l-1.37-1.37c-.4-.4-.92-.59-1.43-.59-.52 0-1.04.2-1.43.59L10.3 9.45l-7.72 7.72c-.78.78-.78 2.05 0 2.83L4 21.41c.39.39.9.59 1.41.59.51 0 1.02-.2 1.41-.59l7.78-7.78 2.81-2.81c.8-.78.8-2.07 0-2.86zM5.41 20L4 18.59l7.72-7.72 1.47 1.35L5.41 20z\"/>\n",
              "  </svg>\n",
              "      </button>\n",
              "      \n",
              "  <style>\n",
              "    .colab-df-container {\n",
              "      display:flex;\n",
              "      flex-wrap:wrap;\n",
              "      gap: 12px;\n",
              "    }\n",
              "\n",
              "    .colab-df-convert {\n",
              "      background-color: #E8F0FE;\n",
              "      border: none;\n",
              "      border-radius: 50%;\n",
              "      cursor: pointer;\n",
              "      display: none;\n",
              "      fill: #1967D2;\n",
              "      height: 32px;\n",
              "      padding: 0 0 0 0;\n",
              "      width: 32px;\n",
              "    }\n",
              "\n",
              "    .colab-df-convert:hover {\n",
              "      background-color: #E2EBFA;\n",
              "      box-shadow: 0px 1px 2px rgba(60, 64, 67, 0.3), 0px 1px 3px 1px rgba(60, 64, 67, 0.15);\n",
              "      fill: #174EA6;\n",
              "    }\n",
              "\n",
              "    [theme=dark] .colab-df-convert {\n",
              "      background-color: #3B4455;\n",
              "      fill: #D2E3FC;\n",
              "    }\n",
              "\n",
              "    [theme=dark] .colab-df-convert:hover {\n",
              "      background-color: #434B5C;\n",
              "      box-shadow: 0px 1px 3px 1px rgba(0, 0, 0, 0.15);\n",
              "      filter: drop-shadow(0px 1px 2px rgba(0, 0, 0, 0.3));\n",
              "      fill: #FFFFFF;\n",
              "    }\n",
              "  </style>\n",
              "\n",
              "      <script>\n",
              "        const buttonEl =\n",
              "          document.querySelector('#df-3233dda3-e3de-47c4-b4a9-179dc3fb3b15 button.colab-df-convert');\n",
              "        buttonEl.style.display =\n",
              "          google.colab.kernel.accessAllowed ? 'block' : 'none';\n",
              "\n",
              "        async function convertToInteractive(key) {\n",
              "          const element = document.querySelector('#df-3233dda3-e3de-47c4-b4a9-179dc3fb3b15');\n",
              "          const dataTable =\n",
              "            await google.colab.kernel.invokeFunction('convertToInteractive',\n",
              "                                                     [key], {});\n",
              "          if (!dataTable) return;\n",
              "\n",
              "          const docLinkHtml = 'Like what you see? Visit the ' +\n",
              "            '<a target=\"_blank\" href=https://colab.research.google.com/notebooks/data_table.ipynb>data table notebook</a>'\n",
              "            + ' to learn more about interactive tables.';\n",
              "          element.innerHTML = '';\n",
              "          dataTable['output_type'] = 'display_data';\n",
              "          await google.colab.output.renderOutput(dataTable, element);\n",
              "          const docLink = document.createElement('div');\n",
              "          docLink.innerHTML = docLinkHtml;\n",
              "          element.appendChild(docLink);\n",
              "        }\n",
              "      </script>\n",
              "    </div>\n",
              "  </div>\n",
              "  "
            ]
          },
          "metadata": {},
          "execution_count": 24
        }
      ]
    },
    {
      "cell_type": "code",
      "source": [
        "def get_filename(file_list, file):\n",
        "    for f in file_list:\n",
        "        if file in f:\n",
        "            return f"
      ],
      "metadata": {
        "id": "dTMRyWSD2EOi"
      },
      "execution_count": null,
      "outputs": []
    },
    {
      "cell_type": "code",
      "source": [
        "annotations_df[\"filename\"] = annotations_df[\"seriesuid\"].map(lambda file: get_filename(file_list, file))\n",
        "annotations_df = annotations_df.dropna()\n",
        "annotations_df = annotations_df[annotations_df['diameter_mm']>=3.9]     # Excluding nodules with diameter less than 3.9mm\n",
        "print(len(annotations_df))"
      ],
      "metadata": {
        "colab": {
          "base_uri": "https://localhost:8080/"
        },
        "id": "o3Bdz_Ih2IlB",
        "outputId": "8ef16f81-e288-44a3-b7ea-8e9bd8727fea"
      },
      "execution_count": null,
      "outputs": [
        {
          "output_type": "stream",
          "name": "stdout",
          "text": [
            "124\n"
          ]
        }
      ]
    },
    {
      "cell_type": "code",
      "source": [
        "def load_mhd(file):\n",
        "    mhdimage = stk.ReadImage(file)\n",
        "    ct_scan = stk.GetArrayFromImage(mhdimage)\n",
        "    origin = np.array(list(mhdimage.GetOrigin()))\n",
        "    space = np.array(list(mhdimage.GetSpacing()))\n",
        "    return ct_scan, origin, space"
      ],
      "metadata": {
        "id": "O0YsREaX2Kle"
      },
      "execution_count": null,
      "outputs": []
    },
    {
      "cell_type": "code",
      "source": [
        "def make_mask(img, center, diam):\n",
        "    mask = np.zeros_like(img, dtype=np.uint8)\n",
        "    mask = cv2.circle(mask, (abs(int(center[0])),abs(int(center[1]))),int(abs(diam//2)), 255, -1)\n",
        "    return mask"
      ],
      "metadata": {
        "id": "895Orr4J2PS7"
      },
      "execution_count": null,
      "outputs": []
    },
    {
      "cell_type": "code",
      "source": [
        "n_neighbour = 4      # Number of neighbour slides to consider"
      ],
      "metadata": {
        "id": "FtM2G_P22Qp6"
      },
      "execution_count": null,
      "outputs": []
    },
    {
      "cell_type": "code",
      "source": [
        "clahe = cv2.createCLAHE(clipLimit=2.0, tileGridSize=(8,8))  # CLAHE(Contrast Limited Adaptive Histogram Equalization) filter for enhancing the contrast of an image\n",
        "\n",
        "# Iterating over all the files in the subset\n",
        "for i,file in tqdm(enumerate(np.unique(annotations_df['filename'].values))):\n",
        "    annotations = annotations_df[annotations_df[\"filename\"]==file]\n",
        "    ct, origin, space = load_mhd(file)      # Loading the CT scan\n",
        "    num_z, height, width = ct.shape\n",
        "    ct_norm = cv2.normalize(ct, None, 0, 255, cv2.NORM_MINMAX)   # Normalizing the CT scan\n",
        "    for idx, row in annotations.iterrows():\n",
        "        node_x = int(row[\"coordX\"])     # X coordinate of the nodule\n",
        "        node_y = int(row[\"coordY\"])     # Y coordinate of the nodule\n",
        "        node_z = int(row[\"coordZ\"])     # Z coordinate of the nodule\n",
        "        diam = int(row[\"diameter_mm\"])  # Diameter of the nodule\n",
        "\n",
        "        center = np.array([node_x, node_y, node_z])   # nodule center (x,y,z)\n",
        "        v_center = np.rint((center-origin)/space)   # nodule center in voxel space (still x,y,z ordering)\n",
        "        v_diam = int(diam/space[0])+5       # Diameter of the nodule in voxel space\n",
        "\n",
        "        img_norm_neighbours = []\n",
        "        img_norm_improved_neighbours = []\n",
        "        mask_neighbours = []\n",
        "        img_norm = None\n",
        "        img_norm_improved = None\n",
        "        mask = None\n",
        "\n",
        "        if 18<v_diam<22:              # If nodule diameter is of medium size the take two neighbour slides into consideration\n",
        "            n_neighbour = 2\n",
        "\n",
        "        min_i = max(0,(int(v_center[2])-n_neighbour))\n",
        "        max_i = min((int(v_center[2])+n_neighbour),(num_z-1))\n",
        "        n = max_i-min_i\n",
        "\n",
        "        img_norm = ct_norm[int(v_center[2]),:,:]    # a slice of the CT scan containing the nodule\n",
        "        img_norm = cv2.resize(img_norm, (,512))  # Resizing the CT scan to 512x512\n",
        "        img_norm_improved = clahe.apply(img_norm.astype(np.uint8))  # Applying CLAHE filter to the image\n",
        "        mask = make_mask(img_norm, v_center, v_diam)    # Creating a mask of the nodule\n",
        "\n",
        "        if v_diam>18:      # If the nodule is too big, we will also take neighboring slices\n",
        "            for i in range(min_i, max_i+1):\n",
        "                if i==int(v_center[2]):\n",
        "                    continue\n",
        "\n",
        "                im_n = ct_norm[i,:,:]\n",
        "                im_n = cv2.resize(im_n, (512,512))\n",
        "                im_n_improved = clahe.apply(im_n.astype(np.uint8))\n",
        "                dia = int(2*abs(v_center[2]-i))    # Decrease mask diameter because nodule diameter decrease as we move away from its center\n",
        "                msk = make_mask(im_n, v_center, v_diam-dia)\n",
        "                img_norm_neighbours.append(im_n)\n",
        "                img_norm_improved_neighbours.append(im_n_improved)\n",
        "                mask_neighbours.append(msk)\n",
        "            assert len(img_norm_neighbours)==len(img_norm_improved_neighbours)==len(mask_neighbours)==n\n",
        "\n",
        "        # Calculating the threshold value for extracting the nodule mask using binary thresholding\n",
        "        mask = cv2.bitwise_and(img_norm, img_norm, mask=cv2.dilate(mask,kernel=np.ones((5,5))))\n",
        "        pts = mask[mask>0]\n",
        "        kmeans2 = KMeans(n_clusters=2).fit(np.reshape(pts,(len(pts),1)))\n",
        "        centroids2 = sorted(kmeans2.cluster_centers_.flatten())\n",
        "        threshold2 = np.mean(centroids2)\n",
        "\n",
        "        _, mask = cv2.threshold(mask, threshold2, 255, cv2.THRESH_BINARY)\n",
        "\n",
        "\n",
        "        if v_diam>18:\n",
        "            for i in range(n):\n",
        "                mask_neighbours[i] = cv2.bitwise_and(img_norm_neighbours[i], img_norm_neighbours[i], mask=cv2.dilate(mask_neighbours[i],kernel=np.ones((5,5))))\n",
        "                _, mask_neighbours[i] = cv2.threshold(mask_neighbours[i], threshold2, 255, cv2.THRESH_BINARY)\n",
        "\n",
        "\n",
        "        # Calculating the threshold value to segment the lungs from CT scan slices using binary thresholding\n",
        "        centeral_area = img_norm[100:400, 100:400]\n",
        "        kmeans = KMeans(n_clusters=2).fit(np.reshape(centeral_area, [np.prod(centeral_area.shape), 1]))\n",
        "        centroids = sorted(kmeans.cluster_centers_.flatten())\n",
        "        threshold = np.mean(centroids)\n",
        "\n",
        "        # Steps to segment the lungs from CT scan slices\n",
        "        ret, lung_roi = cv2.threshold(img_norm, threshold, 255, cv2.THRESH_BINARY_INV)\n",
        "        lung_roi = cv2.erode(lung_roi, kernel=np.ones([4,4]))\n",
        "        lung_roi = cv2.dilate(lung_roi, kernel=np.ones([13,13]))\n",
        "        lung_roi = cv2.erode(lung_roi, kernel=np.ones([8,8]))\n",
        "\n",
        "        labels = measure.label(lung_roi)        # Labelling different regions in the image\n",
        "        regions = measure.regionprops(labels)   # Extracting the properties of the regions\n",
        "        good_labels = []\n",
        "        for prop in regions:        # Filtering the regions that are not too close to the edges\n",
        "            B = prop.bbox           # Regions that are too close to the edges are outside regions of lungs\n",
        "            if B[2]-B[0] < 475 and B[3]-B[1] < 475 and B[0] > 40 and B[2] < 472:\n",
        "                good_labels.append(prop.label)\n",
        "        lung_roi_mask = np.zeros_like(labels)\n",
        "        for N in good_labels:\n",
        "            lung_roi_mask = lung_roi_mask + np.where(labels == N, 1, 0)\n",
        "\n",
        "        # Steps to get proper segmentation of the lungs without noise and holes\n",
        "        contours, hirearchy = cv2.findContours(lung_roi_mask,cv2.RETR_CCOMP,cv2.CHAIN_APPROX_SIMPLE)\n",
        "        external_contours = np.zeros(lung_roi_mask.shape)\n",
        "        for i in range(len(contours)):\n",
        "            if hirearchy[0][i][3] == -1:  #External Contours\n",
        "                area = cv2.contourArea(contours[i])\n",
        "                if area>518.0:\n",
        "                    cv2.drawContours(external_contours,contours,i,(1,1,1),-1)\n",
        "        external_contours = cv2.dilate(external_contours, kernel=np.ones([4,4]))\n",
        "\n",
        "        external_contours = cv2.bitwise_not(external_contours.astype(np.uint8))\n",
        "        external_contours = cv2.erode(external_contours, kernel=np.ones((7,7)))\n",
        "        external_contours = cv2.bitwise_not(external_contours)\n",
        "        external_contours = cv2.dilate(external_contours, kernel=np.ones((12,12)))\n",
        "        external_contours = cv2.erode(external_contours, kernel=np.ones((12,12)))\n",
        "\n",
        "        img_norm_improved = img_norm_improved.astype(np.uint8)\n",
        "        external_contours = external_contours.astype(np.uint8)      # Final segmentated lungs mask\n",
        "        extracted_lungs = cv2.bitwise_and(img_norm_improved, img_norm_improved, mask=external_contours)\n",
        "\n",
        "        mask = mask.astype(np.uint8)\n",
        "        np.save(os.path.join(target_root+\"nodule_mask/\", f\"masks_0_{i}_{idx}.npy\"), mask)\n",
        "        np.save(os.path.join(target_root+\"lungs_roi/\", f\"lungs_0_{i}_{idx}.npy\"), extracted_lungs)\n",
        "\n",
        "        extracted_lungs_neighbours = [None]*n\n",
        "\n",
        "        if v_diam>18:\n",
        "            for i in range(n):\n",
        "                img_norm_improved_neighbours[i] = img_norm_improved_neighbours[i].astype(np.uint8)\n",
        "                extracted_lungs_neighbours[i] = cv2.bitwise_and(img_norm_improved_neighbours[i], img_norm_improved_neighbours[i], mask=external_contours)\n",
        "                mask_neighbours[i] = mask_neighbours[i].astype(np.uint8)\n",
        "                np.save(os.path.join(target_root+\"nodule_mask/\", f\"masks_6_{i}_{idx}_{i}.npy\"), mask_neighbours[i])\n",
        "                np.save(os.path.join(target_root+\"lungs_roi/\", f\"lungs_6_{i}_{idx}_{i}.npy\"), extracted_lungs_neighbours[i])"
      ],
      "metadata": {
        "colab": {
          "base_uri": "https://localhost:8080/"
        },
        "id": "jsXKkPu84VOT",
        "outputId": "0bd08277-ef07-4ba6-915f-869b0d1b2fd0"
      },
      "execution_count": null,
      "outputs": [
        {
          "output_type": "stream",
          "name": "stderr",
          "text": [
            "63it [01:32,  1.47s/it]\n"
          ]
        }
      ]
    },
    {
      "cell_type": "code",
      "source": [
        "!mkdir outputImage6_7"
      ],
      "metadata": {
        "id": "ga01AFMf8OQ8"
      },
      "execution_count": null,
      "outputs": []
    },
    {
      "cell_type": "code",
      "source": [
        "!mkdir /content/outputImage6_7/lungs_roi\n",
        "!mkdir /content/outputImage6_7/nodule_mask"
      ],
      "metadata": {
        "id": "SuxHAwFx8Ocr"
      },
      "execution_count": null,
      "outputs": []
    },
    {
      "cell_type": "code",
      "source": [
        "from PIL import Image"
      ],
      "metadata": {
        "id": "sS7UeR0d8ZLx"
      },
      "execution_count": null,
      "outputs": []
    },
    {
      "cell_type": "code",
      "source": [
        "lung_names = os.listdir(\"/content/ProcessedData/lungs_roi/\")"
      ],
      "metadata": {
        "id": "8qLB2LIo8cHS"
      },
      "execution_count": null,
      "outputs": []
    },
    {
      "cell_type": "code",
      "source": [
        "for file in lung_names:\n",
        "  image_loc = '/content/ProcessedData/lungs_roi/' + file\n",
        "  lung = np.load(image_loc)\n",
        "  img = Image.fromarray(lung , 'L')\n",
        "  img_file = file.replace('.npy', '.png')\n",
        "  img.save('/content/outputImage6_7/lungs_roi/' + img_file)"
      ],
      "metadata": {
        "id": "HZdcewL18fAi"
      },
      "execution_count": null,
      "outputs": []
    },
    {
      "cell_type": "code",
      "source": [
        "mask_names = os.listdir(\"/content/ProcessedData/nodule_mask/\")"
      ],
      "metadata": {
        "id": "U5HNmWEZ8mZa"
      },
      "execution_count": null,
      "outputs": []
    },
    {
      "cell_type": "code",
      "source": [
        "for file in mask_names:\n",
        "  image_loc = '/content/ProcessedData/nodule_mask/' + file\n",
        "  mask = np.load(image_loc)\n",
        "  img = Image.fromarray(mask , 'L')\n",
        "  img_file = file.replace('.npy', '.png')\n",
        "  img.save('/content/outputImage6_7/nodule_mask/' + img_file)"
      ],
      "metadata": {
        "id": "gi7U0bmx8o80"
      },
      "execution_count": null,
      "outputs": []
    },
    {
      "cell_type": "code",
      "source": [
        "from google.colab import drive\n",
        "drive.mount('/content/drive')"
      ],
      "metadata": {
        "colab": {
          "base_uri": "https://localhost:8080/"
        },
        "id": "rDEQn6m18r8F",
        "outputId": "dbe464ab-0e7e-44e8-c270-bb16e6df646a"
      },
      "execution_count": null,
      "outputs": [
        {
          "output_type": "stream",
          "name": "stdout",
          "text": [
            "Mounted at /content/drive\n"
          ]
        }
      ]
    },
    {
      "cell_type": "code",
      "source": [
        "!mkdir /content/drive/MyDrive/Subset6_7"
      ],
      "metadata": {
        "id": "D9FpWGMS86cz"
      },
      "execution_count": null,
      "outputs": []
    },
    {
      "cell_type": "code",
      "source": [
        "!mv /content/outputImage6_7 /content/drive/MyDrive/Subset6_7"
      ],
      "metadata": {
        "id": "MweimAs0xErP"
      },
      "execution_count": null,
      "outputs": []
    }
  ]
}